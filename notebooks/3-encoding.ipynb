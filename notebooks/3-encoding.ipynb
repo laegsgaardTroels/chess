{
 "cells": [
  {
   "cell_type": "markdown",
   "metadata": {},
   "source": [
    "Things that needs to be encoded:\n",
    "\n",
    "A full description of a chess position, i.e. the position \"state\", must contain the following elements:\n",
    "\n",
    "1. The location of each piece on the board\n",
    "2. Whose turn it is to move\n",
    "3. Status of the 50-move draw rule. The name of this is sometimes a bit confusing, as it is 50 moves by each player, and therefore 100 half-moves, or ply. For example, if the previous 80 half-moves passed without a capture or a pawn move, the fifty-move rule will kick in after another twenty half-moves.\n",
    "4. Whether either player is permanently disqualified to castle, both kingside and queenside.\n",
    "5. If an en passant capture is possible.\n",
    "\n",
    "References:\n",
    "\n",
    "    [1] https://en.wikipedia.org/wiki/Board_representation_(computer_chess)"
   ]
  },
  {
   "cell_type": "code",
   "execution_count": null,
   "metadata": {},
   "outputs": [],
   "source": [
    "pieces = {}\n",
    "positions = {}"
   ]
  },
  {
   "cell_type": "code",
   "execution_count": null,
   "metadata": {},
   "outputs": [],
   "source": [
    "0bt00"
   ]
  },
  {
   "cell_type": "code",
   "execution_count": null,
   "metadata": {},
   "outputs": [],
   "source": [
    "color -> piece -> position"
   ]
  },
  {
   "cell_type": "code",
   "execution_count": null,
   "metadata": {},
   "outputs": [],
   "source": [
    "game = {\n",
    "    'black': {\n",
    "        'tower': 'a1'\n",
    "        ...\n",
    "    }\n",
    "    'white': {\n",
    "        'tower': 'a1'\n",
    "        ...\n",
    "    },\n",
    "    \n",
    "}"
   ]
  },
  {
   "cell_type": "code",
   "execution_count": 2,
   "metadata": {},
   "outputs": [
    {
     "name": "stdout",
     "output_type": "stream",
     "text": [
      "20.7 ns ± 0.469 ns per loop (mean ± std. dev. of 7 runs, 10000000 loops each)\n"
     ]
    }
   ],
   "source": [
    "board = {\n",
    "    'black': {\n",
    "        'tower': 'a1'\n",
    "    },\n",
    "    'white': {\n",
    "        'tower': 'a1'\n",
    "    },\n",
    "}\n",
    "\n",
    "def copy_much():\n",
    "    for _ in range(1e6):\n",
    "        z = board.copy()\n",
    "        \n",
    "%timeit copy_much"
   ]
  }
 ],
 "metadata": {
  "kernelspec": {
   "display_name": "Python 3",
   "language": "python",
   "name": "python3"
  },
  "language_info": {
   "codemirror_mode": {
    "name": "ipython",
    "version": 3
   },
   "file_extension": ".py",
   "mimetype": "text/x-python",
   "name": "python",
   "nbconvert_exporter": "python",
   "pygments_lexer": "ipython3",
   "version": "3.7.3"
  }
 },
 "nbformat": 4,
 "nbformat_minor": 4
}
